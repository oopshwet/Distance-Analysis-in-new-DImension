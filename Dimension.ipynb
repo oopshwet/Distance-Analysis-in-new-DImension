{
 "cells": [
  {
   "cell_type": "markdown",
   "id": "9847bb85-b1b4-4367-ad4c-aac5ef57e2a6",
   "metadata": {},
   "source": [
    "## Breadth-First Search (BFS)"
   ]
  },
  {
   "cell_type": "code",
   "execution_count": 2,
   "id": "e8cff9d5-fbc7-4c29-9747-78385929764d",
   "metadata": {},
   "outputs": [
    {
     "name": "stdout",
     "output_type": "stream",
     "text": [
      "BFS Traversal: 5 3 7 2 4 8 "
     ]
    }
   ],
   "source": [
    "from collections import deque\n",
    "\n",
    "def bfs(graph, start):\n",
    "    visited = set()\n",
    "    queue = deque([start])\n",
    "\n",
    "    print(\"BFS Traversal:\", end=\" \")\n",
    "\n",
    "    while queue:\n",
    "        node = queue.popleft()\n",
    "        if node not in visited:\n",
    "            print(node, end=\" \")\n",
    "            visited.add(node)\n",
    "            queue.extend(graph[node])\n",
    "\n",
    "# Graph\n",
    "graph = {\n",
    "    '5': ['3', '7'],\n",
    "    '3': ['2', '4'],\n",
    "    '7': ['8'],\n",
    "    '2': [],\n",
    "    '4': ['8'],\n",
    "    '8': []\n",
    "}\n",
    "\n",
    "bfs(graph, '5')\n"
   ]
  },
  {
   "cell_type": "markdown",
   "id": "c92eb181-2abf-44d9-b186-68707bd7fe4a",
   "metadata": {},
   "source": [
    "## 2 Depth-First Search (DFS)"
   ]
  },
  {
   "cell_type": "code",
   "execution_count": 5,
   "id": "b2f59add-7922-48ba-b3aa-3d6313768268",
   "metadata": {},
   "outputs": [
    {
     "name": "stdout",
     "output_type": "stream",
     "text": [
      "DFS Traversal: 5 3 2 4 8 7 "
     ]
    }
   ],
   "source": [
    "def dfs(graph, node, visited=None):\n",
    "    if visited is None:\n",
    "        visited = set()\n",
    "        print(\"DFS Traversal:\", end=\" \")\n",
    "\n",
    "    if node not in visited:\n",
    "        print(node, end=\" \")\n",
    "        visited.add(node)\n",
    "        for neighbor in graph[node]:\n",
    "            dfs(graph, neighbor, visited)\n",
    "\n",
    "dfs(graph, '5')\n"
   ]
  },
  {
   "cell_type": "markdown",
   "id": "1b387f1b-c44f-434c-a592-81766066e630",
   "metadata": {},
   "source": [
    "## 3. Tower of Hanoi"
   ]
  },
  {
   "cell_type": "code",
   "execution_count": 13,
   "id": "f47757c8-9cd9-4bfb-9fbe-343ec0436f6f",
   "metadata": {},
   "outputs": [
    {
     "name": "stdout",
     "output_type": "stream",
     "text": [
      "\n",
      "Tower of Hanoi solution for 3 disks:\n",
      "Move disk 1 from A to C\n",
      "Move disk 2 from A to B\n",
      "Move disk 1 from C to B\n",
      "Move disk 3 from A to C\n",
      "Move disk 1 from B to A\n",
      "Move disk 2 from B to C\n",
      "Move disk 1 from A to C\n"
     ]
    }
   ],
   "source": [
    "def tower_of_hanoi(n, source, destination, auxiliary):\n",
    "    if n == 1:\n",
    "        print(f\"Move disk 1 from {source} to {destination}\")\n",
    "        return\n",
    "    tower_of_hanoi(n-1, source, auxiliary, destination)\n",
    "    print(f\"Move disk {n} from {source} to {destination}\")\n",
    "    tower_of_hanoi(n-1, auxiliary, destination, source)\n",
    "\n",
    "n_disks = 3\n",
    "print(f\"\\nTower of Hanoi solution for {n_disks} disks:\")\n",
    "tower_of_hanoi(n_disks, 'A', 'C', 'B')\n"
   ]
  },
  {
   "cell_type": "markdown",
   "id": "07fc0367-85dc-4489-9c19-2af2c77ea6d3",
   "metadata": {},
   "source": [
    "## 4. Traveling Salesman Problem (TSP) – Brute Force"
   ]
  },
  {
   "cell_type": "code",
   "execution_count": 16,
   "id": "aad9b9ef-e03c-41cb-af8d-b0391f56957f",
   "metadata": {},
   "outputs": [
    {
     "name": "stdout",
     "output_type": "stream",
     "text": [
      "\n",
      "Shortest path: A -> B -> D -> C -> A\n",
      "Minimum cost: 80\n"
     ]
    }
   ],
   "source": [
    "from itertools import permutations\n",
    "\n",
    "def tsp_brute_force(dist_matrix, start=0):\n",
    "    n = len(dist_matrix)\n",
    "    cities = list(range(n))\n",
    "    min_cost = float('inf')\n",
    "    best_path = []\n",
    "\n",
    "    for perm in permutations(cities):\n",
    "        if perm[0] != start:\n",
    "            continue\n",
    "        cost = 0\n",
    "        for i in range(n - 1):\n",
    "            cost += dist_matrix[perm[i]][perm[i+1]]\n",
    "        cost += dist_matrix[perm[-1]][perm[0]]  # return to start\n",
    "\n",
    "        if cost < min_cost:\n",
    "            min_cost = cost\n",
    "            best_path = perm\n",
    "\n",
    "    print(\"\\nShortest path:\", ' -> '.join(chr(65 + city) for city in best_path) + f\" -> {chr(65 + start)}\")\n",
    "    print(\"Minimum cost:\", min_cost)\n",
    "\n",
    "# Distance Matrix\n",
    "distance_matrix = [\n",
    "    [0, 10, 15, 20],  # A\n",
    "    [10, 0, 35, 25],  # B\n",
    "    [15, 35, 0, 30],  # C\n",
    "    [20, 25, 30, 0]   # D\n",
    "]\n",
    "\n",
    "tsp_brute_force(distance_matrix)\n"
   ]
  },
  {
   "cell_type": "code",
   "execution_count": null,
   "id": "aaf94753-d919-4064-92d9-e5d8a3457010",
   "metadata": {},
   "outputs": [],
   "source": []
  }
 ],
 "metadata": {
  "kernelspec": {
   "display_name": "Python [conda env:base] *",
   "language": "python",
   "name": "conda-base-py"
  },
  "language_info": {
   "codemirror_mode": {
    "name": "ipython",
    "version": 3
   },
   "file_extension": ".py",
   "mimetype": "text/x-python",
   "name": "python",
   "nbconvert_exporter": "python",
   "pygments_lexer": "ipython3",
   "version": "3.12.7"
  }
 },
 "nbformat": 4,
 "nbformat_minor": 5
}
